{
 "cells": [
  {
   "cell_type": "markdown",
   "metadata": {},
   "source": [
    "# Program to generate 100 random integers"
   ]
  },
  {
   "cell_type": "code",
   "execution_count": 20,
   "metadata": {},
   "outputs": [
    {
     "name": "stdout",
     "output_type": "stream",
     "text": [
      "0 99 71 34 11 88 56 47 41 83 35 26 45 47 75 46 15 16 24 89 17 9 21 17 60 48 38 58 34 60 29 65 59 2 86 18 36 87 23 95 76 19 32 92 22 49 92 44 85 89 38 44 91 27 15 12 59 25 6 18 27 57 48 78 7 72 4 8 94 48 56 93 77 63 58 97 19 23 81 63 74 39 70 46 61 62 43 62 7 86 89 15 27 99 9 41 17 45 11 18 "
     ]
    }
   ],
   "source": [
    "import random\n",
    "\n",
    "for a in range(100):\n",
    "    rnd = random.randrange(100)\n",
    "    print(rnd, end = \" \")"
   ]
  },
  {
   "cell_type": "markdown",
   "metadata": {},
   "source": [
    "# 1. Printing them in 10 by 10 matrix with one space between each number"
   ]
  },
  {
   "cell_type": "code",
   "execution_count": 21,
   "metadata": {},
   "outputs": [
    {
     "name": "stdout",
     "output_type": "stream",
     "text": [
      "0 3 7 4 7 8 0 8 4 3 \n",
      "\n",
      "5 6 5 4 8 7 9 2 7 5 \n",
      "\n",
      "0 1 0 4 5 3 1 8 7 5 \n",
      "\n",
      "5 3 0 2 7 5 4 1 8 9 \n",
      "\n",
      "8 2 8 1 2 4 8 6 5 8 \n",
      "\n",
      "7 8 5 1 3 3 3 5 8 4 \n",
      "\n",
      "1 4 7 0 8 7 6 8 3 5 \n",
      "\n",
      "6 3 8 7 9 9 4 6 9 0 \n",
      "\n",
      "4 1 5 0 5 9 0 7 9 3 \n",
      "\n",
      "4 6 7 1 8 9 5 3 5 4 \n",
      "\n"
     ]
    }
   ],
   "source": [
    "import random\n",
    "\n",
    "for i in range(10):\n",
    "    for j in range(10):\n",
    "        a = random.randrange(10)\n",
    "        print(a, end = \" \")\n",
    "    print(\"\\n\")"
   ]
  },
  {
   "cell_type": "markdown",
   "metadata": {},
   "source": [
    "# 2. Print @ if the random number is an odd integer in the10 * 10 matrix"
   ]
  },
  {
   "cell_type": "code",
   "execution_count": 15,
   "metadata": {},
   "outputs": [
    {
     "name": "stdout",
     "output_type": "stream",
     "text": [
      "4 6 6 0 @ @ 6 0 @ 0 \n",
      "\n",
      "@ 8 8 2 8 8 8 2 @ @ \n",
      "\n",
      "0 @ 4 6 @ 6 2 @ 4 0 \n",
      "\n",
      "4 2 0 @ 6 @ 2 6 @ @ \n",
      "\n",
      "@ @ 2 @ 8 @ 2 2 8 2 \n",
      "\n",
      "@ 4 0 @ 4 @ @ 2 @ 0 \n",
      "\n",
      "@ @ @ @ @ @ 8 @ 6 @ \n",
      "\n",
      "@ 8 6 2 6 6 2 @ 8 6 \n",
      "\n",
      "@ @ 0 0 0 2 4 @ 4 @ \n",
      "\n",
      "@ 0 @ @ 6 @ @ @ @ 8 \n",
      "\n"
     ]
    }
   ],
   "source": [
    "import random\n",
    "\n",
    "for x in range(10):\n",
    "  for y in range(10):\n",
    "    randnum = random.randrange(10)\n",
    "    reminder = randnum % 2\n",
    "    if reminder > 0:\n",
    "      print(\"@\", end = \" \")\n",
    "    else:\n",
    "      print(randnum, end = \" \")   \n",
    "  print(\"\\n\")"
   ]
  },
  {
   "cell_type": "markdown",
   "metadata": {},
   "source": [
    "# 3. Print the total of each row at the end of the row"
   ]
  },
  {
   "cell_type": "code",
   "execution_count": 18,
   "metadata": {},
   "outputs": [
    {
     "name": "stdout",
     "output_type": "stream",
     "text": [
      "6  8  2  2  2  3  1  5  2  7  *  38\n",
      "9  5  8  5  8  2  4  8  3  7  *  97\n",
      "8  8  8  8  2  5  7  9  9  9  *  170\n",
      "9  1  5  5  2  1  7  6  7  9  *  222\n",
      "8  1  9  8  3  4  9  0  4  1  *  269\n",
      "2  4  5  7  4  1  6  8  7  0  *  313\n",
      "5  3  5  5  4  1  9  2  8  9  *  364\n",
      "4  0  3  8  0  0  3  9  5  9  *  405\n",
      "2  3  6  4  0  4  1  9  3  8  *  445\n",
      "5  8  8  6  1  0  6  7  9  9  *  504\n"
     ]
    }
   ],
   "source": [
    "import random\n",
    "\n",
    "sum_rand_num = 0\n",
    "for row in range(10):\n",
    "  for column in range(10):\n",
    "        rand_num = random.randrange(10)\n",
    "        sum_rand_num = sum_rand_num + rand_num\n",
    "        print(rand_num, end='  ')\n",
    "  print(\"*\", end = \"  \")        \n",
    "  print(sum_rand_num)"
   ]
  }
 ],
 "metadata": {
  "kernelspec": {
   "display_name": "Python 3",
   "language": "python",
   "name": "python3"
  },
  "language_info": {
   "codemirror_mode": {
    "name": "ipython",
    "version": 3
   },
   "file_extension": ".py",
   "mimetype": "text/x-python",
   "name": "python",
   "nbconvert_exporter": "python",
   "pygments_lexer": "ipython3",
   "version": "3.8.5"
  }
 },
 "nbformat": 4,
 "nbformat_minor": 4
}
