{
 "cells": [
  {
   "cell_type": "code",
   "execution_count": 15,
   "metadata": {},
   "outputs": [
    {
     "name": "stdout",
     "output_type": "stream",
     "text": [
      "Enter user input:0\n",
      "You have entered:  0\n",
      "Enter user input:1\n",
      "You have entered:  1\n",
      "Enter user input:2\n",
      "You have entered:  2\n",
      "Enter user input:3\n",
      "You have entered:  3\n",
      "Enter user input:4\n",
      "You have entered:  4\n",
      "Enter user input:5\n",
      "You have entered:  5\n",
      "Enter user input:6\n",
      "You have entered:  6\n",
      "Enter user input:7\n",
      "You have entered:  7\n",
      "Enter user input:8\n",
      "You have entered:  8\n",
      "Enter user input:9\n",
      "You have entered:  9\n",
      "Total inputs you entered are:  ['0', '1', '2', '3', '4', '5', '6', '7', '8', '9']\n"
     ]
    }
   ],
   "source": [
    "user_inputs = []\n",
    "for i in range(1,11):\n",
    "    user_input = input(\"Enter user input:\")\n",
    "    print(\"You have entered: \", user_input)\n",
    "    user_inputs.append(user_input)\n",
    "\n",
    "print(\"Total inputs you entered are: \", user_inputs)"
   ]
  },
  {
   "cell_type": "markdown",
   "metadata": {},
   "source": [
    "# Minimum value in a list"
   ]
  },
  {
   "cell_type": "code",
   "execution_count": 64,
   "metadata": {},
   "outputs": [
    {
     "name": "stdout",
     "output_type": "stream",
     "text": [
      "['0', '1', '2', '3', '4', '5', '6', '7', '8', '9']\n",
      "Minimum value in the user inputs is: 0\n"
     ]
    }
   ],
   "source": [
    "print(user_inputs)\n",
    "min_value = min(user_inputs)\n",
    "print(\"Minimum value in the user inputs is:\", min_value)"
   ]
  },
  {
   "cell_type": "markdown",
   "metadata": {},
   "source": [
    "# Maximum value in a list"
   ]
  },
  {
   "cell_type": "code",
   "execution_count": 65,
   "metadata": {},
   "outputs": [
    {
     "name": "stdout",
     "output_type": "stream",
     "text": [
      "['0', '1', '2', '3', '4', '5', '6', '7', '8', '9']\n",
      "Maximum value in the user inputs is: 9\n"
     ]
    }
   ],
   "source": [
    "print(user_inputs)\n",
    "max_value = max(user_inputs)\n",
    "print(\"Maximum value in the user inputs is:\", max_value)"
   ]
  },
  {
   "cell_type": "markdown",
   "metadata": {},
   "source": [
    "# Range of a list"
   ]
  },
  {
   "cell_type": "code",
   "execution_count": 48,
   "metadata": {},
   "outputs": [
    {
     "name": "stdout",
     "output_type": "stream",
     "text": [
      "0\n",
      "9\n",
      "Please enter max value: 9\n",
      "Please enter min value: 0\n"
     ]
    }
   ],
   "source": [
    "print(min_value)\n",
    "print(max_value)\n",
    "\n",
    "def range(x,y):\n",
    "    range = x-y\n",
    "    return range\n",
    "\n",
    "num1 = int(input(\"Please enter max value: \"))\n",
    "num2 = int(input(\"Please enter min value: \"))"
   ]
  },
  {
   "cell_type": "code",
   "execution_count": 49,
   "metadata": {},
   "outputs": [
    {
     "name": "stdout",
     "output_type": "stream",
     "text": [
      "Range is :  9\n"
     ]
    }
   ],
   "source": [
    "print(\"Range is : \", range(num1,num2))"
   ]
  },
  {
   "cell_type": "markdown",
   "metadata": {},
   "source": [
    "# Mean of a list"
   ]
  },
  {
   "cell_type": "code",
   "execution_count": 62,
   "metadata": {},
   "outputs": [
    {
     "name": "stdout",
     "output_type": "stream",
     "text": [
      "[0, 1, 2, 3, 4, 5, 6, 7, 8, 9]\n",
      "45\n",
      "10\n",
      "Mean of User inputs is:  4.5\n"
     ]
    }
   ],
   "source": [
    "int_user_inputs = []\n",
    "for u in user_inputs:\n",
    "    a = int(u)\n",
    "    int_user_inputs.append(a)\n",
    "print(int_user_inputs)\n",
    "\n",
    "sum_int_user_inputs = sum(int_user_inputs)\n",
    "len_int_user_inputs = len(int_user_inputs)\n",
    "print(sum_int_user_inputs)\n",
    "print(len_int_user_inputs)\n",
    "mean = sum_int_user_inputs / len_int_user_inputs\n",
    "print(\"Mean of User inputs is: \", mean)"
   ]
  },
  {
   "cell_type": "markdown",
   "metadata": {},
   "source": [
    "# Variance of a list"
   ]
  },
  {
   "cell_type": "code",
   "execution_count": 61,
   "metadata": {},
   "outputs": [
    {
     "name": "stdout",
     "output_type": "stream",
     "text": [
      "10\n",
      "4.5\n",
      "[20.25, 12.25, 6.25, 2.25, 0.25, 0.25, 2.25, 6.25, 12.25, 20.25]\n",
      "Variance of User inputs is:  8.25\n"
     ]
    }
   ],
   "source": [
    "print(len_int_user_inputs)\n",
    "print(mean)\n",
    "deviations = [(x - mean) ** 2 for x in int_user_inputs]\n",
    "print(deviations)\n",
    "variance = sum(deviations) / len_int_user_inputs\n",
    "print(\"Variance of User inputs is: \", variance)"
   ]
  },
  {
   "cell_type": "markdown",
   "metadata": {},
   "source": [
    "# Standard Deviation of a list"
   ]
  },
  {
   "cell_type": "code",
   "execution_count": 69,
   "metadata": {},
   "outputs": [
    {
     "name": "stdout",
     "output_type": "stream",
     "text": [
      "Mean of User inputs is:  4.5\n",
      "Variance of User inputs is:  8.25\n",
      "Standard deviation of the user inputs is:  2.8722813232690143\n"
     ]
    }
   ],
   "source": [
    "print(\"Mean of User inputs is: \", mean)\n",
    "print(\"Variance of User inputs is: \", variance)\n",
    "std_dev = variance ** 0.5\n",
    "print(\"Standard deviation of the user inputs is: \", std_dev)"
   ]
  },
  {
   "cell_type": "code",
   "execution_count": null,
   "metadata": {},
   "outputs": [],
   "source": []
  }
 ],
 "metadata": {
  "kernelspec": {
   "display_name": "Python 3",
   "language": "python",
   "name": "python3"
  },
  "language_info": {
   "codemirror_mode": {
    "name": "ipython",
    "version": 3
   },
   "file_extension": ".py",
   "mimetype": "text/x-python",
   "name": "python",
   "nbconvert_exporter": "python",
   "pygments_lexer": "ipython3",
   "version": "3.8.5"
  }
 },
 "nbformat": 4,
 "nbformat_minor": 4
}
