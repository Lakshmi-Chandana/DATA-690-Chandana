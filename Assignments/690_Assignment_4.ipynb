{
  "nbformat": 4,
  "nbformat_minor": 0,
  "metadata": {
    "colab": {
      "name": "690_Assignment-4.ipynb",
      "provenance": [],
      "collapsed_sections": []
    },
    "kernelspec": {
      "name": "python3",
      "display_name": "Python 3"
    }
  },
  "cells": [
    {
      "cell_type": "code",
      "metadata": {
        "id": "o0EmMAZ_k4DK"
      },
      "source": [
        "# Opening a text file and reading all lines from it into a list\r\n",
        "\r\n",
        "with open(\"/content/census_cost_raw.txt\", \"rt\") as file:\r\n",
        "  line_list = file.readlines()"
      ],
      "execution_count": 92,
      "outputs": []
    },
    {
      "cell_type": "code",
      "metadata": {
        "colab": {
          "base_uri": "https://localhost:8080/"
        },
        "id": "-GCvQT53oEqI",
        "outputId": "5d632aba-b129-4f10-ebe8-73ee7ee7b3f0"
      },
      "source": [
        "# Printing the line_list\r\n",
        "\r\n",
        "line_list"
      ],
      "execution_count": 93,
      "outputs": [
        {
          "output_type": "execute_result",
          "data": {
            "text/plain": [
              "['Source: https://www.genealogybranches.com/censuscosts.html\\n',\n",
              " 'Census Year\\tTotal Population\\tCensus Cost\\tAverage Cost Per Person\\n',\n",
              " '1790\\t3,929,214\\t$44,377\\t1.13 cents\\n',\n",
              " '1800\\t5,308,483\\t$66,109\\t1.24 cents\\n',\n",
              " '1810\\t7,239,881\\t$178,445\\t2.46 cents\\n',\n",
              " '1820\\t9,633,822\\t$208,526\\t2.16 cents\\n',\n",
              " '1830\\t12,866,020\\t$378,545\\t2.94 cents\\n',\n",
              " '1840\\t17,069,458\\t$833,371\\t4.88 cents\\n',\n",
              " '1850\\t23,191,876\\t$1,423,351\\t6.14 cents\\n',\n",
              " '1860\\t31,443,321\\t$1,969,377\\t6.26 cents\\n',\n",
              " '1870\\t38,558,371\\t$3,421,198\\t8.87 cents\\n',\n",
              " '1880\\t50,155,783\\t$5,790,678\\t11.54 cents\\n',\n",
              " '1890\\t62,979,766\\t$11,547,127\\t18.33 cents\\n',\n",
              " '1900\\t76,303,387\\t$11,854,000\\t15.54 cents\\n',\n",
              " '1910\\t91,972,266\\t$15,968,000\\t17.07 cents\\n',\n",
              " '1920\\t105,710,620\\t$25,117,000\\t23.76 cents\\n',\n",
              " '1930\\t122,775,046\\t$40,156,000\\t32.71 cents\\n',\n",
              " '1940\\t131,669,275\\t$67,527,000\\t51.29 cents\\n',\n",
              " '1950\\t151,325,798\\t$91,462,000\\t60.44 cents\\n',\n",
              " '1960\\t179,323,175\\t$127,934,000\\t71.34 cents\\n',\n",
              " '1970\\t203,302,031\\t$247,653,000\\t$1.22\\n',\n",
              " '1980\\t226,542,199\\t$1,078,488,000\\t$4.76\\n',\n",
              " '1990\\t248,718,301\\t$2,492,830,000\\t$10.02\\n',\n",
              " '2000\\t281,421,906\\t$4.5 Billion\\t$15.99\\n',\n",
              " '2010*\\t308,745,538\\t$13 Billion\\t$42.11\\n']"
            ]
          },
          "metadata": {
            "tags": []
          },
          "execution_count": 93
        }
      ]
    },
    {
      "cell_type": "code",
      "metadata": {
        "colab": {
          "base_uri": "https://localhost:8080/"
        },
        "id": "dEeNgDgNriGz",
        "outputId": "c13bc44b-dc4e-4960-f27c-15bf0bdc6e68"
      },
      "source": [
        "# to print them row by row neatly\r\n",
        "\r\n",
        "for row in line_list:\r\n",
        "  print(row)"
      ],
      "execution_count": 94,
      "outputs": [
        {
          "output_type": "stream",
          "text": [
            "Source: https://www.genealogybranches.com/censuscosts.html\n",
            "\n",
            "Census Year\tTotal Population\tCensus Cost\tAverage Cost Per Person\n",
            "\n",
            "1790\t3,929,214\t$44,377\t1.13 cents\n",
            "\n",
            "1800\t5,308,483\t$66,109\t1.24 cents\n",
            "\n",
            "1810\t7,239,881\t$178,445\t2.46 cents\n",
            "\n",
            "1820\t9,633,822\t$208,526\t2.16 cents\n",
            "\n",
            "1830\t12,866,020\t$378,545\t2.94 cents\n",
            "\n",
            "1840\t17,069,458\t$833,371\t4.88 cents\n",
            "\n",
            "1850\t23,191,876\t$1,423,351\t6.14 cents\n",
            "\n",
            "1860\t31,443,321\t$1,969,377\t6.26 cents\n",
            "\n",
            "1870\t38,558,371\t$3,421,198\t8.87 cents\n",
            "\n",
            "1880\t50,155,783\t$5,790,678\t11.54 cents\n",
            "\n",
            "1890\t62,979,766\t$11,547,127\t18.33 cents\n",
            "\n",
            "1900\t76,303,387\t$11,854,000\t15.54 cents\n",
            "\n",
            "1910\t91,972,266\t$15,968,000\t17.07 cents\n",
            "\n",
            "1920\t105,710,620\t$25,117,000\t23.76 cents\n",
            "\n",
            "1930\t122,775,046\t$40,156,000\t32.71 cents\n",
            "\n",
            "1940\t131,669,275\t$67,527,000\t51.29 cents\n",
            "\n",
            "1950\t151,325,798\t$91,462,000\t60.44 cents\n",
            "\n",
            "1960\t179,323,175\t$127,934,000\t71.34 cents\n",
            "\n",
            "1970\t203,302,031\t$247,653,000\t$1.22\n",
            "\n",
            "1980\t226,542,199\t$1,078,488,000\t$4.76\n",
            "\n",
            "1990\t248,718,301\t$2,492,830,000\t$10.02\n",
            "\n",
            "2000\t281,421,906\t$4.5 Billion\t$15.99\n",
            "\n",
            "2010*\t308,745,538\t$13 Billion\t$42.11\n",
            "\n"
          ],
          "name": "stdout"
        }
      ]
    },
    {
      "cell_type": "code",
      "metadata": {
        "colab": {
          "base_uri": "https://localhost:8080/"
        },
        "id": "LYab4i-lsKuz",
        "outputId": "c2ada50d-83bb-4edf-d695-96ac347cb762"
      },
      "source": [
        "top2_list = line_list[:2]     # Extracting first two lines and placing them in top2_list\r\n",
        "top2_list                      # printing it"
      ],
      "execution_count": 95,
      "outputs": [
        {
          "output_type": "execute_result",
          "data": {
            "text/plain": [
              "['Source: https://www.genealogybranches.com/censuscosts.html\\n',\n",
              " 'Census Year\\tTotal Population\\tCensus Cost\\tAverage Cost Per Person\\n']"
            ]
          },
          "metadata": {
            "tags": []
          },
          "execution_count": 95
        }
      ]
    },
    {
      "cell_type": "code",
      "metadata": {
        "colab": {
          "base_uri": "https://localhost:8080/"
        },
        "id": "HI5ljJm_skzI",
        "outputId": "712facbc-3f50-4b0d-ed43-2a6e1751db71"
      },
      "source": [
        "data_list = line_list[2:]        # Keeping the rest of the lines in new data_list\r\n",
        "data_list                         # printing it"
      ],
      "execution_count": 96,
      "outputs": [
        {
          "output_type": "execute_result",
          "data": {
            "text/plain": [
              "['1790\\t3,929,214\\t$44,377\\t1.13 cents\\n',\n",
              " '1800\\t5,308,483\\t$66,109\\t1.24 cents\\n',\n",
              " '1810\\t7,239,881\\t$178,445\\t2.46 cents\\n',\n",
              " '1820\\t9,633,822\\t$208,526\\t2.16 cents\\n',\n",
              " '1830\\t12,866,020\\t$378,545\\t2.94 cents\\n',\n",
              " '1840\\t17,069,458\\t$833,371\\t4.88 cents\\n',\n",
              " '1850\\t23,191,876\\t$1,423,351\\t6.14 cents\\n',\n",
              " '1860\\t31,443,321\\t$1,969,377\\t6.26 cents\\n',\n",
              " '1870\\t38,558,371\\t$3,421,198\\t8.87 cents\\n',\n",
              " '1880\\t50,155,783\\t$5,790,678\\t11.54 cents\\n',\n",
              " '1890\\t62,979,766\\t$11,547,127\\t18.33 cents\\n',\n",
              " '1900\\t76,303,387\\t$11,854,000\\t15.54 cents\\n',\n",
              " '1910\\t91,972,266\\t$15,968,000\\t17.07 cents\\n',\n",
              " '1920\\t105,710,620\\t$25,117,000\\t23.76 cents\\n',\n",
              " '1930\\t122,775,046\\t$40,156,000\\t32.71 cents\\n',\n",
              " '1940\\t131,669,275\\t$67,527,000\\t51.29 cents\\n',\n",
              " '1950\\t151,325,798\\t$91,462,000\\t60.44 cents\\n',\n",
              " '1960\\t179,323,175\\t$127,934,000\\t71.34 cents\\n',\n",
              " '1970\\t203,302,031\\t$247,653,000\\t$1.22\\n',\n",
              " '1980\\t226,542,199\\t$1,078,488,000\\t$4.76\\n',\n",
              " '1990\\t248,718,301\\t$2,492,830,000\\t$10.02\\n',\n",
              " '2000\\t281,421,906\\t$4.5 Billion\\t$15.99\\n',\n",
              " '2010*\\t308,745,538\\t$13 Billion\\t$42.11\\n']"
            ]
          },
          "metadata": {
            "tags": []
          },
          "execution_count": 96
        }
      ]
    },
    {
      "cell_type": "code",
      "metadata": {
        "colab": {
          "base_uri": "https://localhost:8080/"
        },
        "id": "nOW29yZBz3Cs",
        "outputId": "2da9e1a5-2d82-4957-e5be-7b67be92c79f"
      },
      "source": [
        "# Splitting by '\\t'\r\n",
        "\r\n",
        "for row in data_list:\r\n",
        "  split_data_list = row.split(\"\\t\")\r\n",
        "  print(split_data_list)"
      ],
      "execution_count": 97,
      "outputs": [
        {
          "output_type": "stream",
          "text": [
            "['1790', '3,929,214', '$44,377', '1.13 cents\\n']\n",
            "['1800', '5,308,483', '$66,109', '1.24 cents\\n']\n",
            "['1810', '7,239,881', '$178,445', '2.46 cents\\n']\n",
            "['1820', '9,633,822', '$208,526', '2.16 cents\\n']\n",
            "['1830', '12,866,020', '$378,545', '2.94 cents\\n']\n",
            "['1840', '17,069,458', '$833,371', '4.88 cents\\n']\n",
            "['1850', '23,191,876', '$1,423,351', '6.14 cents\\n']\n",
            "['1860', '31,443,321', '$1,969,377', '6.26 cents\\n']\n",
            "['1870', '38,558,371', '$3,421,198', '8.87 cents\\n']\n",
            "['1880', '50,155,783', '$5,790,678', '11.54 cents\\n']\n",
            "['1890', '62,979,766', '$11,547,127', '18.33 cents\\n']\n",
            "['1900', '76,303,387', '$11,854,000', '15.54 cents\\n']\n",
            "['1910', '91,972,266', '$15,968,000', '17.07 cents\\n']\n",
            "['1920', '105,710,620', '$25,117,000', '23.76 cents\\n']\n",
            "['1930', '122,775,046', '$40,156,000', '32.71 cents\\n']\n",
            "['1940', '131,669,275', '$67,527,000', '51.29 cents\\n']\n",
            "['1950', '151,325,798', '$91,462,000', '60.44 cents\\n']\n",
            "['1960', '179,323,175', '$127,934,000', '71.34 cents\\n']\n",
            "['1970', '203,302,031', '$247,653,000', '$1.22\\n']\n",
            "['1980', '226,542,199', '$1,078,488,000', '$4.76\\n']\n",
            "['1990', '248,718,301', '$2,492,830,000', '$10.02\\n']\n",
            "['2000', '281,421,906', '$4.5 Billion', '$15.99\\n']\n",
            "['2010*', '308,745,538', '$13 Billion', '$42.11\\n']\n"
          ],
          "name": "stdout"
        }
      ]
    },
    {
      "cell_type": "code",
      "metadata": {
        "colab": {
          "base_uri": "https://localhost:8080/"
        },
        "id": "qcCSWASP1SOr",
        "outputId": "9692b81e-138c-4749-e6c4-eab29757e690"
      },
      "source": [
        "# 4. Extracting census year column and assigning to new list 'year_list'\r\n",
        "\r\n",
        "year_list = []\r\n",
        "for row in data_list:\r\n",
        "  split_data_list = row.split(\"\\t\")\r\n",
        "  year_list.append(split_data_list[0])\r\n",
        "year_list"
      ],
      "execution_count": 98,
      "outputs": [
        {
          "output_type": "execute_result",
          "data": {
            "text/plain": [
              "['1790',\n",
              " '1800',\n",
              " '1810',\n",
              " '1820',\n",
              " '1830',\n",
              " '1840',\n",
              " '1850',\n",
              " '1860',\n",
              " '1870',\n",
              " '1880',\n",
              " '1890',\n",
              " '1900',\n",
              " '1910',\n",
              " '1920',\n",
              " '1930',\n",
              " '1940',\n",
              " '1950',\n",
              " '1960',\n",
              " '1970',\n",
              " '1980',\n",
              " '1990',\n",
              " '2000',\n",
              " '2010*']"
            ]
          },
          "metadata": {
            "tags": []
          },
          "execution_count": 98
        }
      ]
    },
    {
      "cell_type": "code",
      "metadata": {
        "colab": {
          "base_uri": "https://localhost:8080/",
          "height": 35
        },
        "id": "4pITy1bceAUe",
        "outputId": "f5c49fc9-330e-4842-9fb9-26571168d465"
      },
      "source": [
        "year_list.pop(-1)"
      ],
      "execution_count": 99,
      "outputs": [
        {
          "output_type": "execute_result",
          "data": {
            "application/vnd.google.colaboratory.intrinsic+json": {
              "type": "string"
            },
            "text/plain": [
              "'2010*'"
            ]
          },
          "metadata": {
            "tags": []
          },
          "execution_count": 99
        }
      ]
    },
    {
      "cell_type": "code",
      "metadata": {
        "colab": {
          "base_uri": "https://localhost:8080/"
        },
        "id": "O26dRRsheHoD",
        "outputId": "80b1e8a3-734c-473d-d3a1-f4108611ced6"
      },
      "source": [
        "year_list.append(\"2010\")\r\n",
        "year_list"
      ],
      "execution_count": 100,
      "outputs": [
        {
          "output_type": "execute_result",
          "data": {
            "text/plain": [
              "['1790',\n",
              " '1800',\n",
              " '1810',\n",
              " '1820',\n",
              " '1830',\n",
              " '1840',\n",
              " '1850',\n",
              " '1860',\n",
              " '1870',\n",
              " '1880',\n",
              " '1890',\n",
              " '1900',\n",
              " '1910',\n",
              " '1920',\n",
              " '1930',\n",
              " '1940',\n",
              " '1950',\n",
              " '1960',\n",
              " '1970',\n",
              " '1980',\n",
              " '1990',\n",
              " '2000',\n",
              " '2010']"
            ]
          },
          "metadata": {
            "tags": []
          },
          "execution_count": 100
        }
      ]
    },
    {
      "cell_type": "code",
      "metadata": {
        "id": "799yIRGh0swt"
      },
      "source": [
        "# converting from string to int\r\n",
        "\r\n",
        "year_list = [int(year) for year in year_list]"
      ],
      "execution_count": 101,
      "outputs": []
    },
    {
      "cell_type": "code",
      "metadata": {
        "colab": {
          "base_uri": "https://localhost:8080/"
        },
        "id": "vnEUL6Xj07rJ",
        "outputId": "8ae0c382-324b-4a95-a68f-0aad4fbafc01"
      },
      "source": [
        "# printing the cleansed year_list\r\n",
        "\r\n",
        "print(year_list)"
      ],
      "execution_count": 102,
      "outputs": [
        {
          "output_type": "stream",
          "text": [
            "[1790, 1800, 1810, 1820, 1830, 1840, 1850, 1860, 1870, 1880, 1890, 1900, 1910, 1920, 1930, 1940, 1950, 1960, 1970, 1980, 1990, 2000, 2010]\n"
          ],
          "name": "stdout"
        }
      ]
    },
    {
      "cell_type": "code",
      "metadata": {
        "colab": {
          "base_uri": "https://localhost:8080/"
        },
        "id": "WV5O3o0LWtcE",
        "outputId": "650ceba9-ba54-40ee-e121-f6a07bfb7a89"
      },
      "source": [
        "# 5.\r\n",
        "# extracting population\r\n",
        "\r\n",
        "for row in data_list:\r\n",
        "  split_data_list = row.split(\"\\t\")\r\n",
        "  print(split_data_list[1])"
      ],
      "execution_count": 103,
      "outputs": [
        {
          "output_type": "stream",
          "text": [
            "3,929,214\n",
            "5,308,483\n",
            "7,239,881\n",
            "9,633,822\n",
            "12,866,020\n",
            "17,069,458\n",
            "23,191,876\n",
            "31,443,321\n",
            "38,558,371\n",
            "50,155,783\n",
            "62,979,766\n",
            "76,303,387\n",
            "91,972,266\n",
            "105,710,620\n",
            "122,775,046\n",
            "131,669,275\n",
            "151,325,798\n",
            "179,323,175\n",
            "203,302,031\n",
            "226,542,199\n",
            "248,718,301\n",
            "281,421,906\n",
            "308,745,538\n"
          ],
          "name": "stdout"
        }
      ]
    },
    {
      "cell_type": "code",
      "metadata": {
        "colab": {
          "base_uri": "https://localhost:8080/"
        },
        "id": "ID8t4Lq-aRQm",
        "outputId": "8cae0f13-9c20-4ec3-c48e-bd110ce5a237"
      },
      "source": [
        "# replacing comma\r\n",
        "\r\n",
        "for row in data_list:\r\n",
        "  split_data_list = row.split(\"\\t\")\r\n",
        "  pop = split_data_list[1].replace(\",\", \"\")\r\n",
        "  print(pop)"
      ],
      "execution_count": 104,
      "outputs": [
        {
          "output_type": "stream",
          "text": [
            "3929214\n",
            "5308483\n",
            "7239881\n",
            "9633822\n",
            "12866020\n",
            "17069458\n",
            "23191876\n",
            "31443321\n",
            "38558371\n",
            "50155783\n",
            "62979766\n",
            "76303387\n",
            "91972266\n",
            "105710620\n",
            "122775046\n",
            "131669275\n",
            "151325798\n",
            "179323175\n",
            "203302031\n",
            "226542199\n",
            "248718301\n",
            "281421906\n",
            "308745538\n"
          ],
          "name": "stdout"
        }
      ]
    },
    {
      "cell_type": "code",
      "metadata": {
        "id": "h_9-uWMYbIla"
      },
      "source": [
        "# creating new list pop_list\r\n",
        "\r\n",
        "pop_list = []\r\n",
        "for row in data_list:\r\n",
        "  split_data_list = row.split(\"\\t\")\r\n",
        "  pop = split_data_list[1].replace(\",\", \"\")\r\n",
        "  pop_list.append(pop)"
      ],
      "execution_count": 105,
      "outputs": []
    },
    {
      "cell_type": "code",
      "metadata": {
        "colab": {
          "base_uri": "https://localhost:8080/"
        },
        "id": "PfWaSu1LcUFC",
        "outputId": "661bea8e-b80c-4ac6-c4ea-0496cce0ab12"
      },
      "source": [
        "# printing pop_list\r\n",
        "\r\n",
        "pop_list"
      ],
      "execution_count": 106,
      "outputs": [
        {
          "output_type": "execute_result",
          "data": {
            "text/plain": [
              "['3929214',\n",
              " '5308483',\n",
              " '7239881',\n",
              " '9633822',\n",
              " '12866020',\n",
              " '17069458',\n",
              " '23191876',\n",
              " '31443321',\n",
              " '38558371',\n",
              " '50155783',\n",
              " '62979766',\n",
              " '76303387',\n",
              " '91972266',\n",
              " '105710620',\n",
              " '122775046',\n",
              " '131669275',\n",
              " '151325798',\n",
              " '179323175',\n",
              " '203302031',\n",
              " '226542199',\n",
              " '248718301',\n",
              " '281421906',\n",
              " '308745538']"
            ]
          },
          "metadata": {
            "tags": []
          },
          "execution_count": 106
        }
      ]
    },
    {
      "cell_type": "code",
      "metadata": {
        "id": "YUNoid0g3Bx7"
      },
      "source": [
        "# Converting from string to int\r\n",
        "\r\n",
        "pop_list = [int(pop) for pop in pop_list]"
      ],
      "execution_count": 107,
      "outputs": []
    },
    {
      "cell_type": "code",
      "metadata": {
        "colab": {
          "base_uri": "https://localhost:8080/"
        },
        "id": "R8ZvSBqz3VZI",
        "outputId": "fab720cb-3391-4f21-a503-f8a9fd48dd93"
      },
      "source": [
        "# printing the cleansed pop_list\r\n",
        "\r\n",
        "pop_list"
      ],
      "execution_count": 108,
      "outputs": [
        {
          "output_type": "execute_result",
          "data": {
            "text/plain": [
              "[3929214,\n",
              " 5308483,\n",
              " 7239881,\n",
              " 9633822,\n",
              " 12866020,\n",
              " 17069458,\n",
              " 23191876,\n",
              " 31443321,\n",
              " 38558371,\n",
              " 50155783,\n",
              " 62979766,\n",
              " 76303387,\n",
              " 91972266,\n",
              " 105710620,\n",
              " 122775046,\n",
              " 131669275,\n",
              " 151325798,\n",
              " 179323175,\n",
              " 203302031,\n",
              " 226542199,\n",
              " 248718301,\n",
              " 281421906,\n",
              " 308745538]"
            ]
          },
          "metadata": {
            "tags": []
          },
          "execution_count": 108
        }
      ]
    },
    {
      "cell_type": "code",
      "metadata": {
        "colab": {
          "base_uri": "https://localhost:8080/"
        },
        "id": "VnAPaHZTcWl_",
        "outputId": "b5209fcb-bf7a-4bfb-c1f9-1056f5008f4b"
      },
      "source": [
        "# 6.\r\n",
        "# Extracting 'census cost' column from data_list\r\n",
        "\r\n",
        "for row in data_list:\r\n",
        "  split_data_list = row.split(\"\\t\")\r\n",
        "  print(split_data_list[2])"
      ],
      "execution_count": 109,
      "outputs": [
        {
          "output_type": "stream",
          "text": [
            "$44,377\n",
            "$66,109\n",
            "$178,445\n",
            "$208,526\n",
            "$378,545\n",
            "$833,371\n",
            "$1,423,351\n",
            "$1,969,377\n",
            "$3,421,198\n",
            "$5,790,678\n",
            "$11,547,127\n",
            "$11,854,000\n",
            "$15,968,000\n",
            "$25,117,000\n",
            "$40,156,000\n",
            "$67,527,000\n",
            "$91,462,000\n",
            "$127,934,000\n",
            "$247,653,000\n",
            "$1,078,488,000\n",
            "$2,492,830,000\n",
            "$4.5 Billion\n",
            "$13 Billion\n"
          ],
          "name": "stdout"
        }
      ]
    },
    {
      "cell_type": "code",
      "metadata": {
        "colab": {
          "base_uri": "https://localhost:8080/"
        },
        "id": "aIOUkpkvk6MP",
        "outputId": "4d1e7468-8435-4481-831d-a7cb0c042570"
      },
      "source": [
        "# removing $, comma, billion etc\r\n",
        "\r\n",
        "for row in data_list:\r\n",
        "  split_data_list = row.split(\"\\t\")\r\n",
        "  c_cost = split_data_list[2].replace(\"$\", \"\").replace(\",\", \"\").replace(\" Billion\", \"000000000\").replace(\"4.5000000000\", \"4500000000\")\r\n",
        "  print(c_cost)"
      ],
      "execution_count": 110,
      "outputs": [
        {
          "output_type": "stream",
          "text": [
            "44377\n",
            "66109\n",
            "178445\n",
            "208526\n",
            "378545\n",
            "833371\n",
            "1423351\n",
            "1969377\n",
            "3421198\n",
            "5790678\n",
            "11547127\n",
            "11854000\n",
            "15968000\n",
            "25117000\n",
            "40156000\n",
            "67527000\n",
            "91462000\n",
            "127934000\n",
            "247653000\n",
            "1078488000\n",
            "2492830000\n",
            "4500000000\n",
            "13000000000\n"
          ],
          "name": "stdout"
        }
      ]
    },
    {
      "cell_type": "code",
      "metadata": {
        "colab": {
          "base_uri": "https://localhost:8080/"
        },
        "id": "b9STCggqctbe",
        "outputId": "ee36592e-d8f9-4e09-eeaf-2564dd408326"
      },
      "source": [
        "# creating new list 'cost_list'\r\n",
        "\r\n",
        "cost_list = []\r\n",
        "for row in data_list:\r\n",
        "  split_data_list = row.split(\"\\t\")\r\n",
        "  c_cost = split_data_list[2].replace(\"$\", \"\").replace(\",\", \"\").replace(\" Billion\", \"000000000\").replace(\"4.5000000000\", \"4500000000\")\r\n",
        "  cost_list.append(c_cost)\r\n",
        "cost_list                  "
      ],
      "execution_count": 111,
      "outputs": [
        {
          "output_type": "execute_result",
          "data": {
            "text/plain": [
              "['44377',\n",
              " '66109',\n",
              " '178445',\n",
              " '208526',\n",
              " '378545',\n",
              " '833371',\n",
              " '1423351',\n",
              " '1969377',\n",
              " '3421198',\n",
              " '5790678',\n",
              " '11547127',\n",
              " '11854000',\n",
              " '15968000',\n",
              " '25117000',\n",
              " '40156000',\n",
              " '67527000',\n",
              " '91462000',\n",
              " '127934000',\n",
              " '247653000',\n",
              " '1078488000',\n",
              " '2492830000',\n",
              " '4500000000',\n",
              " '13000000000']"
            ]
          },
          "metadata": {
            "tags": []
          },
          "execution_count": 111
        }
      ]
    },
    {
      "cell_type": "code",
      "metadata": {
        "id": "Tqx90n4Fei_P"
      },
      "source": [
        "# converting from string to int\r\n",
        "\r\n",
        "cost_list = [int(cost) for cost in cost_list]"
      ],
      "execution_count": 112,
      "outputs": []
    },
    {
      "cell_type": "code",
      "metadata": {
        "colab": {
          "base_uri": "https://localhost:8080/"
        },
        "id": "stOGtK5Wewy2",
        "outputId": "de0c07f3-4c6c-4c09-ce18-55501f846aae"
      },
      "source": [
        "# printing cleansed cost_list\r\n",
        "\r\n",
        "cost_list"
      ],
      "execution_count": 113,
      "outputs": [
        {
          "output_type": "execute_result",
          "data": {
            "text/plain": [
              "[44377,\n",
              " 66109,\n",
              " 178445,\n",
              " 208526,\n",
              " 378545,\n",
              " 833371,\n",
              " 1423351,\n",
              " 1969377,\n",
              " 3421198,\n",
              " 5790678,\n",
              " 11547127,\n",
              " 11854000,\n",
              " 15968000,\n",
              " 25117000,\n",
              " 40156000,\n",
              " 67527000,\n",
              " 91462000,\n",
              " 127934000,\n",
              " 247653000,\n",
              " 1078488000,\n",
              " 2492830000,\n",
              " 4500000000,\n",
              " 13000000000]"
            ]
          },
          "metadata": {
            "tags": []
          },
          "execution_count": 113
        }
      ]
    },
    {
      "cell_type": "code",
      "metadata": {
        "colab": {
          "base_uri": "https://localhost:8080/"
        },
        "id": "U4EDU2-ze8xu",
        "outputId": "e6389394-66f9-46da-872a-792a75531ff5"
      },
      "source": [
        "# 7.\r\n",
        "# extracting (average cost per person) from data_list\r\n",
        "\r\n",
        "cents = []\r\n",
        "\r\n",
        "for row in data_list:\r\n",
        "  split_data_list = row.split(\"\\t\")\r\n",
        "  cents.append(split_data_list[-1])\r\n",
        "cents\r\n"
      ],
      "execution_count": 114,
      "outputs": [
        {
          "output_type": "execute_result",
          "data": {
            "text/plain": [
              "['1.13 cents\\n',\n",
              " '1.24 cents\\n',\n",
              " '2.46 cents\\n',\n",
              " '2.16 cents\\n',\n",
              " '2.94 cents\\n',\n",
              " '4.88 cents\\n',\n",
              " '6.14 cents\\n',\n",
              " '6.26 cents\\n',\n",
              " '8.87 cents\\n',\n",
              " '11.54 cents\\n',\n",
              " '18.33 cents\\n',\n",
              " '15.54 cents\\n',\n",
              " '17.07 cents\\n',\n",
              " '23.76 cents\\n',\n",
              " '32.71 cents\\n',\n",
              " '51.29 cents\\n',\n",
              " '60.44 cents\\n',\n",
              " '71.34 cents\\n',\n",
              " '$1.22\\n',\n",
              " '$4.76\\n',\n",
              " '$10.02\\n',\n",
              " '$15.99\\n',\n",
              " '$42.11\\n']"
            ]
          },
          "metadata": {
            "tags": []
          },
          "execution_count": 114
        }
      ]
    },
    {
      "cell_type": "code",
      "metadata": {
        "colab": {
          "base_uri": "https://localhost:8080/"
        },
        "id": "1dCreCKVtzL8",
        "outputId": "743535de-c67b-4998-8515-b74ecb1e9233"
      },
      "source": [
        "# cleansing the data (removing \"$\", 'cents' and dividing by 100) and appending to a list\r\n",
        "\r\n",
        "avg_list = []\r\n",
        "\r\n",
        "for i in cents:\r\n",
        "  if \"cents\" in i:\r\n",
        "    i=i.replace(\"cents\",\"\")\r\n",
        "    avg_list.append(str(float(i)/100))\r\n",
        "  else:\r\n",
        "    i=i.replace(\"$\",\"\")\r\n",
        "    i=i.replace(\"\\n\",\"\")\r\n",
        "    avg_list.append(i)\r\n",
        "avg_list\r\n"
      ],
      "execution_count": 115,
      "outputs": [
        {
          "output_type": "execute_result",
          "data": {
            "text/plain": [
              "['0.0113',\n",
              " '0.0124',\n",
              " '0.0246',\n",
              " '0.0216',\n",
              " '0.0294',\n",
              " '0.048799999999999996',\n",
              " '0.061399999999999996',\n",
              " '0.0626',\n",
              " '0.08869999999999999',\n",
              " '0.11539999999999999',\n",
              " '0.1833',\n",
              " '0.15539999999999998',\n",
              " '0.1707',\n",
              " '0.2376',\n",
              " '0.3271',\n",
              " '0.5129',\n",
              " '0.6043999999999999',\n",
              " '0.7134',\n",
              " '1.22',\n",
              " '4.76',\n",
              " '10.02',\n",
              " '15.99',\n",
              " '42.11']"
            ]
          },
          "metadata": {
            "tags": []
          },
          "execution_count": 115
        }
      ]
    },
    {
      "cell_type": "code",
      "metadata": {
        "colab": {
          "base_uri": "https://localhost:8080/"
        },
        "id": "avmUhtMq69UP",
        "outputId": "3756fffe-744f-460c-bc79-85867f34be00"
      },
      "source": [
        "# Converting from str to float and printing the avg_list\r\n",
        "\r\n",
        "avg_list = [float(avg) for avg in avg_list]\r\n",
        "avg_list"
      ],
      "execution_count": 116,
      "outputs": [
        {
          "output_type": "execute_result",
          "data": {
            "text/plain": [
              "[0.0113,\n",
              " 0.0124,\n",
              " 0.0246,\n",
              " 0.0216,\n",
              " 0.0294,\n",
              " 0.048799999999999996,\n",
              " 0.061399999999999996,\n",
              " 0.0626,\n",
              " 0.08869999999999999,\n",
              " 0.11539999999999999,\n",
              " 0.1833,\n",
              " 0.15539999999999998,\n",
              " 0.1707,\n",
              " 0.2376,\n",
              " 0.3271,\n",
              " 0.5129,\n",
              " 0.6043999999999999,\n",
              " 0.7134,\n",
              " 1.22,\n",
              " 4.76,\n",
              " 10.02,\n",
              " 15.99,\n",
              " 42.11]"
            ]
          },
          "metadata": {
            "tags": []
          },
          "execution_count": 116
        }
      ]
    },
    {
      "cell_type": "code",
      "metadata": {
        "id": "nU5H0LDnqaH8"
      },
      "source": [
        "# creating new csv file\r\n",
        "\r\n",
        "import csv\r\n",
        "\r\n",
        "full_list = zip(year_list, pop_list, cost_list, avg_list)\r\n",
        "\r\n",
        "with open(\"/content/census_cost.csv\", \"w\", newline = '') as census_file:\r\n",
        "  census_writer = csv.writer(census_file)\r\n",
        "  census_writer.writerow(top2_list[0])\r\n",
        "  header=list(top2_list[1].split(\"\\t\"))\r\n",
        "  census_writer.writerow(header)  \r\n",
        "  for i in full_list:\r\n",
        "    census_writer.writerow(i)   # writes all the values of full_list to new csv file\r\n",
        "\r\n"
      ],
      "execution_count": 117,
      "outputs": []
    },
    {
      "cell_type": "code",
      "metadata": {
        "colab": {
          "base_uri": "https://localhost:8080/"
        },
        "id": "bN8Zi3NuQmTg",
        "outputId": "94bacd6b-4ed0-45bb-e6c1-c4d40e240bbc"
      },
      "source": [
        "# Opening csv file and reading all lines\r\n",
        "\r\n",
        "with open(\"/content/census_cost.csv\", 'r') as file:\r\n",
        "  census_reader = csv.reader(file)\r\n",
        "  final_csv = file.readlines()\r\n",
        "  for i in final_csv:\r\n",
        "    print(i)"
      ],
      "execution_count": 118,
      "outputs": [
        {
          "output_type": "stream",
          "text": [
            "S,o,u,r,c,e,:, ,h,t,t,p,s,:,/,/,w,w,w,.,g,e,n,e,a,l,o,g,y,b,r,a,n,c,h,e,s,.,c,o,m,/,c,e,n,s,u,s,c,o,s,t,s,.,h,t,m,l,\"\n",
            "\n",
            "\"\n",
            "\n",
            "Census Year,Total Population,Census Cost,\"Average Cost Per Person\n",
            "\n",
            "\"\n",
            "\n",
            "1790,3929214,44377,0.0113\n",
            "\n",
            "1800,5308483,66109,0.0124\n",
            "\n",
            "1810,7239881,178445,0.0246\n",
            "\n",
            "1820,9633822,208526,0.0216\n",
            "\n",
            "1830,12866020,378545,0.0294\n",
            "\n",
            "1840,17069458,833371,0.048799999999999996\n",
            "\n",
            "1850,23191876,1423351,0.061399999999999996\n",
            "\n",
            "1860,31443321,1969377,0.0626\n",
            "\n",
            "1870,38558371,3421198,0.08869999999999999\n",
            "\n",
            "1880,50155783,5790678,0.11539999999999999\n",
            "\n",
            "1890,62979766,11547127,0.1833\n",
            "\n",
            "1900,76303387,11854000,0.15539999999999998\n",
            "\n",
            "1910,91972266,15968000,0.1707\n",
            "\n",
            "1920,105710620,25117000,0.2376\n",
            "\n",
            "1930,122775046,40156000,0.3271\n",
            "\n",
            "1940,131669275,67527000,0.5129\n",
            "\n",
            "1950,151325798,91462000,0.6043999999999999\n",
            "\n",
            "1960,179323175,127934000,0.7134\n",
            "\n",
            "1970,203302031,247653000,1.22\n",
            "\n",
            "1980,226542199,1078488000,4.76\n",
            "\n",
            "1990,248718301,2492830000,10.02\n",
            "\n",
            "2000,281421906,4500000000,15.99\n",
            "\n",
            "2010,308745538,13000000000,42.11\n",
            "\n"
          ],
          "name": "stdout"
        }
      ]
    }
  ]
}